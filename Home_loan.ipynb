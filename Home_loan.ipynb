{
  "nbformat": 4,
  "nbformat_minor": 0,
  "metadata": {
    "colab": {
      "provenance": []
    },
    "kernelspec": {
      "name": "python3",
      "display_name": "Python 3"
    },
    "language_info": {
      "name": "python"
    }
  },
  "cells": [
    {
      "cell_type": "code",
      "execution_count": null,
      "metadata": {
        "id": "_irRGSW4vgj4"
      },
      "outputs": [],
      "source": []
    },
    {
      "cell_type": "code",
      "source": [
        "\n"
      ],
      "metadata": {
        "id": "MsupQtkuvwu8"
      },
      "execution_count": null,
      "outputs": []
    },
    {
      "cell_type": "code",
      "source": [
        "## importing important libraries for data preprocessing\n",
        "import pandas as pd\n",
        "import numpy as np\n",
        "import seaborn as sns\n",
        "import matplotlib.pyplot as plt\n",
        "\n"
      ],
      "metadata": {
        "id": "LLcGomgzwggA"
      },
      "execution_count": 62,
      "outputs": []
    },
    {
      "cell_type": "code",
      "source": [
        "\n"
      ],
      "metadata": {
        "id": "JNXRI6Zy-A7p",
        "colab": {
          "base_uri": "https://localhost:8080/",
          "height": 35
        },
        "outputId": "f22e1aeb-c93c-40a4-9ec4-a9712e800bd8"
      },
      "execution_count": 63,
      "outputs": [
        {
          "output_type": "execute_result",
          "data": {
            "text/plain": [
              "'/content'"
            ],
            "application/vnd.google.colaboratory.intrinsic+json": {
              "type": "string"
            }
          },
          "metadata": {},
          "execution_count": 63
        }
      ]
    },
    {
      "cell_type": "code",
      "source": [
        "# splitting the data into train and test\n",
        "\n",
        "train = pd.read_csv(\"/content/drive/MyDrive/home_loan_Data/Train_Loan_Home.csv\")\n",
        "test = pd.read_csv(\"/content/drive/MyDrive/home_loan_Data/Test_Loan_Home.csv\")\n",
        "\n"
      ],
      "metadata": {
        "id": "RbD8S-8qwlTT"
      },
      "execution_count": 64,
      "outputs": []
    },
    {
      "cell_type": "code",
      "source": [
        "\n",
        "\n",
        "\n",
        "\n",
        "\n",
        "train['Dependents'].replace('3+',3,inplace=True)\n",
        "test['Dependents'].replace('3+',3,inplace=True)\n",
        "train['Loan_Status'].replace('N', 0,inplace=True)\n",
        "train['Loan_Status'].replace('Y', 1,inplace=True)\n",
        "\n",
        "\n",
        "\n"
      ],
      "metadata": {
        "id": "XEsflKXEwfWb"
      },
      "execution_count": 65,
      "outputs": []
    },
    {
      "cell_type": "code",
      "source": [
        "train[\"Gender\"].fillna(train[\"Gender\"].mode()[0],inplace=True)\n",
        "train[\"Married\"].fillna(train[\"Married\"].mode()[0],inplace=True)\n",
        "train['Dependents'].fillna(train[\"Dependents\"].mode()[0],inplace=True)\n",
        "train[\"Self_Employed\"].fillna(train[\"Self_Employed\"].mode()[0],inplace=True)\n",
        "train[\"Credit_History\"].fillna(train[\"Credit_History\"].mode()[0],inplace=True)\n",
        "\n",
        "\n",
        "\n",
        "\n",
        "train[\"Loan_Amount_Term\"].fillna(train[\"Loan_Amount_Term\"].mode()[0],inplace=True)\n",
        "\n",
        "train[\"LoanAmount\"].fillna(train[\"LoanAmount\"].median(),inplace=True)\n",
        "\n",
        "train.isnull().sum()"
      ],
      "metadata": {
        "colab": {
          "base_uri": "https://localhost:8080/"
        },
        "id": "XZyOVzh2xNPF",
        "outputId": "743bd66f-f271-45df-8b77-d70ca792fb3b"
      },
      "execution_count": 66,
      "outputs": [
        {
          "output_type": "execute_result",
          "data": {
            "text/plain": [
              "Loan_ID              0\n",
              "Gender               0\n",
              "Married              0\n",
              "Dependents           0\n",
              "Education            0\n",
              "Self_Employed        0\n",
              "ApplicantIncome      0\n",
              "CoapplicantIncome    0\n",
              "LoanAmount           0\n",
              "Loan_Amount_Term     0\n",
              "Credit_History       0\n",
              "Property_Area        0\n",
              "Loan_Status          0\n",
              "dtype: int64"
            ]
          },
          "metadata": {},
          "execution_count": 66
        }
      ]
    },
    {
      "cell_type": "code",
      "source": [
        "\n",
        "\n",
        "test.rename(columns = {'ApplicantIncomeMonthly':'ApplicantIncome' ,'CoapplicantIncomeMonthly':'CoapplicantIncome', 'LoanAmountThousands':'LoanAmount','Loan_Amount_Term_Months':'Loan_Amount_Term'} , inplace = True)"
      ],
      "metadata": {
        "id": "zrWIiD8Jwvw6"
      },
      "execution_count": 67,
      "outputs": []
    },
    {
      "cell_type": "code",
      "source": [
        "test[\"Gender\"].fillna(test[\"Gender\"].mode()[0],inplace=True)\n",
        "test['Dependents'].fillna(test[\"Dependents\"].mode()[0],inplace=True)\n",
        "test[\"Self_Employed\"].fillna(test[\"Self_Employed\"].mode()[0],inplace=True)\n",
        "test[\"Loan_Amount_Term\"].fillna(test[\"Loan_Amount_Term\"].mode()[0],inplace=True)\n",
        "test[\"Credit_History\"].fillna(test[\"Credit_History\"].mode()[0],inplace=True)\n",
        "test[\"LoanAmount\"].fillna(test[\"LoanAmount\"].median(),inplace=True)\n"
      ],
      "metadata": {
        "id": "4PmH0Dkuw0SU"
      },
      "execution_count": 68,
      "outputs": []
    },
    {
      "cell_type": "code",
      "source": [
        "train[\"TotalIncome\"]=train[\"ApplicantIncome\"]+train[\"CoapplicantIncome\"]\n",
        "\n",
        "\n",
        "\n",
        "\n",
        "test[\"TotalIncome\"]=test[\"ApplicantIncome\"]+test[\"CoapplicantIncome\"]\n",
        "\n",
        "\n",
        "\n",
        "train[\"EMI\"]=train[\"LoanAmount\"]/train[\"Loan_Amount_Term\"]\n",
        "test[\"EMI\"]=test[\"LoanAmount\"]/test[\"Loan_Amount_Term\"]\n",
        "\n",
        "\n",
        "\n",
        "train[\"Balance_Income\"] = train[\"TotalIncome\"]-train[\"EMI\"]*1000 # To make the units equal we multiply with 1000\n",
        "test[\"Balance_Income\"] = test[\"TotalIncome\"]-test[\"EMI\"]\n",
        "\n",
        "\n",
        "\n"
      ],
      "metadata": {
        "id": "aKoPhYNky6j0"
      },
      "execution_count": 69,
      "outputs": []
    },
    {
      "cell_type": "code",
      "source": [
        "train=train.drop([\"ApplicantIncome\",\"CoapplicantIncome\",\"LoanAmount\",\"Loan_Amount_Term\"],axis=1)\n",
        "\n",
        "\n",
        "test = test.drop([\"ApplicantIncome\",\"CoapplicantIncome\",\"LoanAmount\",\"Loan_Amount_Term\"],axis=1)\n",
        "\n",
        "\n"
      ],
      "metadata": {
        "id": "CH2Eoc3uz-EC"
      },
      "execution_count": 70,
      "outputs": []
    },
    {
      "cell_type": "code",
      "source": [
        "## now data preprocessing is done \n",
        "## it's time to do model building \n",
        "train=train.drop(\"Loan_ID\",axis=1)\n",
        "test=test.drop(\"Loan_ID\",axis=1)\n",
        "\n",
        "X=train.drop(\"Loan_Status\",1)\n",
        "y=train[[\"Loan_Status\"]]\n",
        "X = pd.get_dummies(X)\n",
        "\n",
        "\n",
        "train=pd.get_dummies(train)\n",
        "test=pd.get_dummies(test)\n",
        "\n",
        "\n"
      ],
      "metadata": {
        "id": "GPwo9DAD0Y-M"
      },
      "execution_count": 71,
      "outputs": []
    },
    {
      "cell_type": "code",
      "source": [
        "\n",
        "## splitting data for model building\n",
        "from sklearn.model_selection import train_test_split\n",
        "\n",
        "\n",
        "x_train,x_cv,y_train,y_cv=train_test_split(X,y,test_size=0.3,random_state=1)\n",
        "\n",
        "\n",
        "#model building\n",
        "from sklearn.linear_model import LogisticRegression\n",
        "from sklearn.metrics import accuracy_score\n",
        "\n",
        "logistic_model = LogisticRegression(random_state=1)\n",
        "logistic_model.fit(x_train,y_train)\n",
        "\n"
      ],
      "metadata": {
        "colab": {
          "base_uri": "https://localhost:8080/"
        },
        "id": "E0lRRoR4_dQD",
        "outputId": "1cebc66a-8de6-455b-ac2e-87978ee2d023"
      },
      "execution_count": 72,
      "outputs": [
        {
          "output_type": "execute_result",
          "data": {
            "text/plain": [
              "LogisticRegression(random_state=1)"
            ]
          },
          "metadata": {},
          "execution_count": 72
        }
      ]
    },
    {
      "cell_type": "code",
      "source": [
        "pred_cv_logistic=logistic_model.predict(x_cv)\n",
        "\n",
        "\n",
        "score_logistic =accuracy_score(pred_cv_logistic,y_cv)*100 \n",
        "\n",
        "score_logistic"
      ],
      "metadata": {
        "colab": {
          "base_uri": "https://localhost:8080/"
        },
        "id": "o-bxMecc_1rw",
        "outputId": "bcf9e7a1-078c-45c7-beb9-6334e412f1ba"
      },
      "execution_count": 73,
      "outputs": [
        {
          "output_type": "execute_result",
          "data": {
            "text/plain": [
              "76.75675675675676"
            ]
          },
          "metadata": {},
          "execution_count": 73
        }
      ]
    },
    {
      "cell_type": "code",
      "source": [
        "pred_test_logistic = logistic_model.predict(test)\n",
        "pred_out = []\n",
        "for i in pred_test_logistic:\n",
        "  if(i == 1):\n",
        "    pred_out.append('Y')\n",
        "  else:\n",
        "    pred_out.append('N')\n",
        "\n",
        "pred_out"
      ],
      "metadata": {
        "colab": {
          "base_uri": "https://localhost:8080/"
        },
        "id": "BmJpa48AAAP4",
        "outputId": "0b479b7c-830b-4576-f46d-e9e830c7501c"
      },
      "execution_count": 75,
      "outputs": [
        {
          "output_type": "execute_result",
          "data": {
            "text/plain": [
              "['Y',\n",
              " 'Y',\n",
              " 'Y',\n",
              " 'Y',\n",
              " 'N',\n",
              " 'Y',\n",
              " 'Y',\n",
              " 'N',\n",
              " 'Y',\n",
              " 'Y',\n",
              " 'N',\n",
              " 'Y',\n",
              " 'Y',\n",
              " 'Y',\n",
              " 'Y',\n",
              " 'Y',\n",
              " 'Y',\n",
              " 'Y',\n",
              " 'Y',\n",
              " 'Y',\n",
              " 'Y',\n",
              " 'Y',\n",
              " 'Y',\n",
              " 'Y',\n",
              " 'Y',\n",
              " 'N',\n",
              " 'Y',\n",
              " 'Y',\n",
              " 'Y',\n",
              " 'Y',\n",
              " 'Y',\n",
              " 'Y',\n",
              " 'Y',\n",
              " 'Y',\n",
              " 'Y',\n",
              " 'N',\n",
              " 'Y',\n",
              " 'Y',\n",
              " 'Y',\n",
              " 'Y',\n",
              " 'Y',\n",
              " 'Y',\n",
              " 'Y',\n",
              " 'Y',\n",
              " 'Y',\n",
              " 'Y',\n",
              " 'Y',\n",
              " 'Y',\n",
              " 'Y',\n",
              " 'Y',\n",
              " 'Y',\n",
              " 'Y',\n",
              " 'Y',\n",
              " 'Y',\n",
              " 'Y',\n",
              " 'N',\n",
              " 'N',\n",
              " 'Y',\n",
              " 'Y',\n",
              " 'Y',\n",
              " 'Y',\n",
              " 'Y',\n",
              " 'Y',\n",
              " 'N',\n",
              " 'Y',\n",
              " 'Y',\n",
              " 'N',\n",
              " 'Y',\n",
              " 'Y',\n",
              " 'N',\n",
              " 'Y',\n",
              " 'Y',\n",
              " 'Y',\n",
              " 'Y',\n",
              " 'Y',\n",
              " 'Y',\n",
              " 'Y',\n",
              " 'Y',\n",
              " 'Y',\n",
              " 'Y',\n",
              " 'N',\n",
              " 'Y',\n",
              " 'N',\n",
              " 'Y',\n",
              " 'Y',\n",
              " 'Y',\n",
              " 'Y',\n",
              " 'Y',\n",
              " 'Y',\n",
              " 'Y',\n",
              " 'Y',\n",
              " 'Y',\n",
              " 'Y',\n",
              " 'Y',\n",
              " 'Y',\n",
              " 'Y',\n",
              " 'Y',\n",
              " 'Y',\n",
              " 'Y',\n",
              " 'Y',\n",
              " 'Y',\n",
              " 'Y',\n",
              " 'Y',\n",
              " 'Y',\n",
              " 'Y',\n",
              " 'Y',\n",
              " 'N',\n",
              " 'Y',\n",
              " 'Y',\n",
              " 'Y',\n",
              " 'Y',\n",
              " 'Y',\n",
              " 'Y',\n",
              " 'Y',\n",
              " 'Y',\n",
              " 'Y',\n",
              " 'Y',\n",
              " 'N',\n",
              " 'N',\n",
              " 'N',\n",
              " 'Y',\n",
              " 'Y',\n",
              " 'Y',\n",
              " 'N',\n",
              " 'N',\n",
              " 'Y',\n",
              " 'N',\n",
              " 'Y',\n",
              " 'Y',\n",
              " 'Y',\n",
              " 'Y',\n",
              " 'Y',\n",
              " 'Y',\n",
              " 'Y',\n",
              " 'Y',\n",
              " 'Y',\n",
              " 'Y',\n",
              " 'Y',\n",
              " 'Y',\n",
              " 'Y',\n",
              " 'N',\n",
              " 'Y',\n",
              " 'N',\n",
              " 'Y',\n",
              " 'Y',\n",
              " 'Y',\n",
              " 'Y',\n",
              " 'N',\n",
              " 'Y',\n",
              " 'Y',\n",
              " 'Y',\n",
              " 'Y',\n",
              " 'Y',\n",
              " 'N',\n",
              " 'Y',\n",
              " 'Y',\n",
              " 'Y',\n",
              " 'Y',\n",
              " 'Y',\n",
              " 'Y',\n",
              " 'Y',\n",
              " 'N',\n",
              " 'Y',\n",
              " 'Y',\n",
              " 'Y',\n",
              " 'N',\n",
              " 'N',\n",
              " 'Y',\n",
              " 'Y',\n",
              " 'Y',\n",
              " 'Y',\n",
              " 'Y',\n",
              " 'Y',\n",
              " 'N',\n",
              " 'N',\n",
              " 'Y',\n",
              " 'Y',\n",
              " 'Y',\n",
              " 'Y',\n",
              " 'Y',\n",
              " 'Y',\n",
              " 'Y',\n",
              " 'Y',\n",
              " 'Y',\n",
              " 'Y',\n",
              " 'Y',\n",
              " 'Y',\n",
              " 'Y',\n",
              " 'Y',\n",
              " 'Y',\n",
              " 'Y',\n",
              " 'Y',\n",
              " 'N',\n",
              " 'N',\n",
              " 'Y',\n",
              " 'Y',\n",
              " 'Y',\n",
              " 'Y',\n",
              " 'N',\n",
              " 'Y',\n",
              " 'Y',\n",
              " 'Y',\n",
              " 'Y',\n",
              " 'Y',\n",
              " 'Y',\n",
              " 'Y',\n",
              " 'Y',\n",
              " 'Y',\n",
              " 'Y',\n",
              " 'N',\n",
              " 'Y',\n",
              " 'N',\n",
              " 'Y',\n",
              " 'Y',\n",
              " 'Y',\n",
              " 'Y',\n",
              " 'Y',\n",
              " 'Y',\n",
              " 'Y',\n",
              " 'Y',\n",
              " 'Y',\n",
              " 'Y',\n",
              " 'Y',\n",
              " 'Y',\n",
              " 'Y',\n",
              " 'Y',\n",
              " 'Y',\n",
              " 'Y',\n",
              " 'Y',\n",
              " 'N',\n",
              " 'Y',\n",
              " 'Y',\n",
              " 'Y',\n",
              " 'Y',\n",
              " 'Y',\n",
              " 'N',\n",
              " 'N',\n",
              " 'Y',\n",
              " 'Y',\n",
              " 'Y',\n",
              " 'N',\n",
              " 'Y',\n",
              " 'Y',\n",
              " 'N',\n",
              " 'Y',\n",
              " 'Y',\n",
              " 'Y',\n",
              " 'Y',\n",
              " 'Y',\n",
              " 'Y',\n",
              " 'N',\n",
              " 'Y',\n",
              " 'Y',\n",
              " 'Y',\n",
              " 'Y',\n",
              " 'N',\n",
              " 'Y',\n",
              " 'Y',\n",
              " 'Y',\n",
              " 'Y',\n",
              " 'Y',\n",
              " 'Y',\n",
              " 'Y',\n",
              " 'Y',\n",
              " 'Y',\n",
              " 'Y',\n",
              " 'N',\n",
              " 'Y',\n",
              " 'N',\n",
              " 'Y',\n",
              " 'Y',\n",
              " 'Y',\n",
              " 'Y',\n",
              " 'Y',\n",
              " 'N',\n",
              " 'Y',\n",
              " 'Y',\n",
              " 'Y',\n",
              " 'N',\n",
              " 'Y',\n",
              " 'Y',\n",
              " 'Y',\n",
              " 'Y',\n",
              " 'N',\n",
              " 'Y',\n",
              " 'Y',\n",
              " 'Y',\n",
              " 'Y',\n",
              " 'Y',\n",
              " 'Y',\n",
              " 'Y',\n",
              " 'Y',\n",
              " 'N',\n",
              " 'N',\n",
              " 'Y',\n",
              " 'Y',\n",
              " 'Y',\n",
              " 'N',\n",
              " 'Y',\n",
              " 'Y',\n",
              " 'Y',\n",
              " 'N',\n",
              " 'Y',\n",
              " 'Y',\n",
              " 'Y',\n",
              " 'Y',\n",
              " 'Y',\n",
              " 'Y',\n",
              " 'Y',\n",
              " 'Y',\n",
              " 'Y',\n",
              " 'N',\n",
              " 'Y',\n",
              " 'Y',\n",
              " 'Y',\n",
              " 'Y',\n",
              " 'Y',\n",
              " 'N',\n",
              " 'N',\n",
              " 'Y',\n",
              " 'Y',\n",
              " 'Y',\n",
              " 'Y',\n",
              " 'Y',\n",
              " 'Y',\n",
              " 'N',\n",
              " 'Y',\n",
              " 'Y',\n",
              " 'Y',\n",
              " 'Y',\n",
              " 'Y',\n",
              " 'Y',\n",
              " 'Y',\n",
              " 'Y',\n",
              " 'Y',\n",
              " 'Y',\n",
              " 'Y',\n",
              " 'Y',\n",
              " 'Y',\n",
              " 'N',\n",
              " 'Y',\n",
              " 'Y',\n",
              " 'Y',\n",
              " 'Y',\n",
              " 'Y',\n",
              " 'Y',\n",
              " 'N',\n",
              " 'N',\n",
              " 'Y',\n",
              " 'Y',\n",
              " 'Y',\n",
              " 'Y',\n",
              " 'Y',\n",
              " 'Y',\n",
              " 'N',\n",
              " 'Y',\n",
              " 'Y',\n",
              " 'Y',\n",
              " 'Y',\n",
              " 'Y',\n",
              " 'Y',\n",
              " 'Y',\n",
              " 'Y',\n",
              " 'Y',\n",
              " 'Y',\n",
              " 'Y',\n",
              " 'Y']"
            ]
          },
          "metadata": {},
          "execution_count": 75
        }
      ]
    },
    {
      "cell_type": "code",
      "source": [],
      "metadata": {
        "id": "L0u-0fv6AGnW"
      },
      "execution_count": null,
      "outputs": []
    }
  ]
}